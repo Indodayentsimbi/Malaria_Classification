{
 "cells": [
  {
   "cell_type": "markdown",
   "metadata": {},
   "source": [
    "# Malaria classification"
   ]
  },
  {
   "cell_type": "code",
   "execution_count": 2,
   "metadata": {},
   "outputs": [
    {
     "name": "stderr",
     "output_type": "stream",
     "text": [
      "Using TensorFlow backend.\n"
     ]
    }
   ],
   "source": [
    "%matplotlib inline\n",
    "import os\n",
    "os.environ[\"KERAS_BACKEND\"] = \"tensorflow\"\n",
    "\n",
    "import matplotlib.pyplot as plt\n",
    "import pandas as pd\n",
    "import numpy as np\n",
    "\n",
    "from sklearn.preprocessing import MinMaxScaler\n",
    "from sklearn.preprocessing import StandardScaler\n",
    "from sklearn.metrics import confusion_matrix,accuracy_score\n",
    "from sklearn.model_selection import train_test_split\n",
    "from sklearn.utils import shuffle\n",
    "from sklearn.metrics import classification_report\n",
    "from sklearn.metrics import confusion_matrix, accuracy_score\n",
    "from sklearn.preprocessing import OneHotEncoder\n",
    "from sklearn import preprocessing\n",
    "\n",
    "import matplotlib.image as mpimg\n",
    "from skimage.io import imread, imsave, imshow\n",
    "from skimage import data, color, io, filters, morphology,transform, exposure, feature, util\n",
    "from scipy import ndimage\n",
    "import sklearn.metrics as metrics\n",
    "\n",
    "import keras\n",
    "from sklearn.preprocessing import LabelBinarizer\n",
    "from keras.models import Sequential\n",
    "from keras.layers import Activation\n",
    "from keras.optimizers import SGD\n",
    "from keras.layers import Dense, Dropout, Flatten\n",
    "from keras.layers import Conv2D, MaxPooling2D\n",
    "from keras import backend as K\n",
    "from keras.utils import np_utils\n",
    "from keras.preprocessing import image\n",
    "from keras.models import Sequential\n",
    "from keras.layers import Dense, Dropout, LSTM, Activation, BatchNormalization\n",
    "from keras.callbacks import EarlyStopping\n",
    "from keras.preprocessing.sequence import pad_sequences\n",
    "from keras.applications.vgg19 import VGG19\n",
    "from keras.applications.vgg19 import preprocess_input, decode_predictions\n",
    "from keras.layers import CuDNNLSTM\n",
    "from keras.layers.embeddings import Embedding\n",
    "from keras.preprocessing.text import Tokenizer\n",
    "from keras.preprocessing.text import text_to_word_sequence\n",
    "from keras.utils.np_utils import to_categorical\n",
    "from sklearn.metrics.pairwise import euclidean_distances\n",
    "from sklearn.metrics.pairwise import cosine_similarity\n",
    "\n",
    "#K.set_image_dim_ordering('tf')\n",
    "plt.rcParams['image.cmap'] = 'gray'\n",
    "pd.set_option('display.max_rows',1000)\n",
    "pd.set_option('display.max_columns',1000)"
   ]
  },
  {
   "cell_type": "markdown",
   "metadata": {},
   "source": [
    "## Malaria Classification\n",
    "\n",
    "We will design and train a neural network to detect whether or not a cell is infected with malaria.\n",
    "\n",
    "The data can be found in: \n",
    "- './Data/Malaria/train/infected/': images of malaria infected cells used for training purposes.\n",
    "- './Data/Malaria/train/uninfected/': images of healthy cells used for training purposes.\n",
    "- './Data/Malaria/test/infected/': images of malaria infected cells used for testing purposes\n",
    "- './Data/Malaria/test/uninfected/': images of healthy cells used for testing purposes \n",
    "\n",
    "First we will train and evaluate our own convolutional neural network. Then we will apply transfer learning by means of VGG19.\n",
    "\n"
   ]
  },
  {
   "cell_type": "code",
   "execution_count": 3,
   "metadata": {},
   "outputs": [],
   "source": [
    "# Read and preprocess images\n",
    "\n",
    "image_size = 100\n",
    "nr_train_images = 1000\n",
    "nr_test_images = 1000\n",
    "infected_train_images = []\n",
    "infected_test_images = []\n",
    "uninfected_train_images = []\n",
    "uninfected_test_images = []\n",
    "y_infected_train = []\n",
    "y_uninfected_train = []\n",
    "y_infected_test = []\n",
    "y_uninfected_test =[]\n",
    "\n",
    "# read infected train_images\n",
    "path = './Data/Malaria/train/infected/'\n",
    "valid_images = [\".jpg\",\".gif\",\".png\"]\n",
    "\n",
    "for f in os.listdir(path)[:nr_train_images]:\n",
    "    ext = os.path.splitext(f)[1]\n",
    "    if ext.lower() not in valid_images:\n",
    "        continue\n",
    "    im = imread(os.path.join(path,f)) \n",
    "    im = transform.resize(im,(image_size,image_size),mode='constant',anti_aliasing=True)\n",
    "    infected_train_images.append(im)\n",
    "    y_infected_train.append(1)\n",
    "    \n",
    "# read infected test_images\n",
    "\n",
    "path = './Data/Malaria/test/infected/'\n",
    "valid_images = [\".jpg\",\".gif\",\".png\"]\n",
    "\n",
    "for f in os.listdir(path)[:nr_test_images]:\n",
    "    ext = os.path.splitext(f)[1]\n",
    "    if ext.lower() not in valid_images:\n",
    "        continue\n",
    "    im = imread(os.path.join(path,f))\n",
    "    im = transform.resize(im,(image_size,image_size),mode='constant',anti_aliasing=True)\n",
    "    infected_test_images.append(im)\n",
    "    y_infected_test.append(1)\n",
    "    \n",
    "\n",
    "# read uninfected train_images\n",
    "path = './Data/Malaria/train/uninfected/'\n",
    "valid_images = [\".jpg\",\".gif\",\".png\"]\n",
    "\n",
    "for f in os.listdir(path)[:nr_train_images]:\n",
    "    ext = os.path.splitext(f)[1]\n",
    "    if ext.lower() not in valid_images:\n",
    "        continue\n",
    "    im = imread(os.path.join(path,f)) \n",
    "    im = transform.resize(im,(image_size,image_size),mode='constant',anti_aliasing=True)\n",
    "    uninfected_train_images.append(im)\n",
    "    y_uninfected_train.append(0)\n",
    "\n",
    "\n",
    "# read uninfected test_images\n",
    "\n",
    "path = './Data/Malaria/test/uninfected/'\n",
    "valid_images = [\".jpg\",\".gif\",\".png\"]\n",
    "\n",
    "for f in os.listdir(path)[:nr_test_images]:\n",
    "    ext = os.path.splitext(f)[1]\n",
    "    if ext.lower() not in valid_images:\n",
    "        continue\n",
    "    im = imread(os.path.join(path,f)) \n",
    "    im = transform.resize(im,(image_size,image_size),mode='constant',anti_aliasing=True)\n",
    "    uninfected_test_images.append(im)\n",
    "    y_uninfected_test.append(0)\n",
    "    \n"
   ]
  },
  {
   "cell_type": "code",
   "execution_count": 4,
   "metadata": {},
   "outputs": [
    {
     "data": {
      "text/plain": [
       "<matplotlib.image.AxesImage at 0x265533ceeb8>"
      ]
     },
     "execution_count": 4,
     "metadata": {},
     "output_type": "execute_result"
    },
    {
     "data": {
      "image/png": "[encoded data removed]",
      "text/plain": [
       "<Figure size 432x288 with 1 Axes>"
      ]
     },
     "metadata": {
      "needs_background": "light"
     },
     "output_type": "display_data"
    }
   ],
   "source": [
    "plt.imshow(uninfected_train_images[0])"
   ]
  },
  {
   "cell_type": "code",
   "execution_count": 18,
   "metadata": {},
   "outputs": [],
   "source": [
    "# compile training set and test set\n",
    "    \n",
    "X_train = np.vstack((np.asarray(infected_train_images),np.asarray(uninfected_train_images)))\n",
    "\n",
    "X_test = np.vstack((np.asarray(infected_test_images),np.asarray(uninfected_test_images)))\n",
    "\n",
    "y_train = np.hstack((np.asarray(y_infected_train),np.asarray(y_uninfected_train)))\n",
    "\n",
    "y_test = np.hstack((np.asarray(y_infected_test),np.asarray(y_uninfected_test)))\n",
    "\n",
    "# randomize training set\n",
    "X_train, y_train = shuffle(X_train, y_train, random_state=0)\n",
    "\n",
    "# randomize test set\n",
    "X_test, y_test = shuffle(X_test,y_test, random_state=0)"
   ]
  },
  {
   "cell_type": "code",
   "execution_count": 19,
   "metadata": {},
   "outputs": [],
   "source": [
    "# Image normalization\n",
    "\n",
    "X_train = X_train.astype('float32')\n",
    "X_test = X_test.astype('float32')\n",
    "# X_train /= 255\n",
    "# X_test /= 255\n",
    "\n",
    "# One-hot-encoding of the output labels\n",
    "y_train = np_utils.to_categorical(y_train)"
   ]
  },
  {
   "cell_type": "code",
   "execution_count": 20,
   "metadata": {},
   "outputs": [
    {
     "data": {
      "text/plain": [
       "<matplotlib.image.AxesImage at 0x2655462aeb8>"
      ]
     },
     "execution_count": 20,
     "metadata": {},
     "output_type": "execute_result"
    },
    {
     "data": {
      "image/png": "[encoded data removed]",
      "text/plain": [
       "<Figure size 432x288 with 1 Axes>"
      ]
     },
     "metadata": {
      "needs_background": "light"
     },
     "output_type": "display_data"
    }
   ],
   "source": [
    "plt.imshow(X_train[10])"
   ]
  },
  {
   "cell_type": "code",
   "execution_count": 22,
   "metadata": {},
   "outputs": [
    {
     "name": "stdout",
     "output_type": "stream",
     "text": [
      "Epoch 1/10\n",
      "2000/2000 [==============================] - 91s 45ms/step - loss: 0.7521 - acc: 0.6095\n",
      "Epoch 2/10\n",
      "2000/2000 [==============================] - 91s 45ms/step - loss: 0.6589 - acc: 0.6365\n",
      "Epoch 3/10\n",
      "2000/2000 [==============================] - 92s 46ms/step - loss: 0.5401 - acc: 0.7340\n",
      "Epoch 4/10\n",
      "2000/2000 [==============================] - 92s 46ms/step - loss: 0.3643 - acc: 0.8515\n",
      "Epoch 5/10\n",
      "2000/2000 [==============================] - 92s 46ms/step - loss: 0.2989 - acc: 0.8845\n",
      "Epoch 6/10\n",
      "2000/2000 [==============================] - 99s 49ms/step - loss: 0.2387 - acc: 0.9075\n",
      "Epoch 7/10\n",
      "2000/2000 [==============================] - 96s 48ms/step - loss: 0.2065 - acc: 0.9185\n",
      "Epoch 8/10\n",
      "2000/2000 [==============================] - 96s 48ms/step - loss: 0.1914 - acc: 0.9265\n",
      "Epoch 9/10\n",
      "2000/2000 [==============================] - 94s 47ms/step - loss: 0.1532 - acc: 0.9450\n",
      "Epoch 10/10\n",
      "2000/2000 [==============================] - 100s 50ms/step - loss: 0.1397 - acc: 0.9435\n"
     ]
    }
   ],
   "source": [
    "# Neural network parameters\n",
    "#-----------------------------------------------\n",
    "#-----------------------------------------------\n",
    "batch_size = 16\n",
    "epochs = 10\n",
    "#-----------------------------------------------\n",
    "#-----------------------------------------------\n",
    "num_classes = 2\n",
    "img_rows, img_cols = image_size, image_size\n",
    "input_shape = (img_rows, img_cols,3)\n",
    "\n",
    "# Model\n",
    "model = Sequential()\n",
    "#-----------------------------------------------\n",
    "#-----------------------------------------------\n",
    "model.add(Conv2D(64, kernel_size=(3, 3),  \n",
    "                 activation='relu',\n",
    "                 input_shape=input_shape)) \n",
    "#-----------------------------------------------\n",
    "#-----------------------------------------------\n",
    "model.add(MaxPooling2D(pool_size=(2, 2)))\n",
    "#-----------------------------------------------\n",
    "model.add(Dropout(0.1)) \n",
    "model.add(BatchNormalization())\n",
    "#-----------------------------------------------\n",
    "#-----------------------------------------------\n",
    "model.add(Conv2D(64, kernel_size=(3, 3),  \n",
    "                 activation='relu',\n",
    "                 input_shape=input_shape)) \n",
    "#-----------------------------------------------\n",
    "#-----------------------------------------------\n",
    "model.add(MaxPooling2D(pool_size=(2, 2)))\n",
    "#-----------------------------------------------\n",
    "model.add(Dropout(0.1)) \n",
    "model.add(BatchNormalization())\n",
    "#-----------------------------------------------\n",
    "model.add(Conv2D(64, (3, 3), activation='relu')) \n",
    "#-----------------------------------------------\n",
    "#-----------------------------------------------\n",
    "model.add(MaxPooling2D(pool_size=(2, 2)))\n",
    "#-----------------------------------------------\n",
    "#-----------------------------------------------\n",
    "model.add(Dropout(0.1)) \n",
    "model.add(BatchNormalization())\n",
    "#-----------------------------------------------\n",
    "#-----------------------------------------------\n",
    "model.add(Flatten()) \n",
    "model.add(Dense(10, activation='relu'))\n",
    "#-----------------------------------------------\n",
    "#-----------------------------------------------\n",
    "model.add(Dropout(0.1)) \n",
    "model.add(BatchNormalization())\n",
    "#-----------------------------------------------\n",
    "#-----------------------------------------------\n",
    "model.add(Dense(num_classes, activation='softmax'))\n",
    "\n",
    "model.compile(loss=keras.losses.categorical_crossentropy,\n",
    "              optimizer=keras.optimizers.Adam(),\n",
    "              metrics=['accuracy'])\n",
    "\n",
    "# Train the CNN\n",
    "history = model.fit(X_train, y_train,\n",
    "          batch_size=batch_size,\n",
    "          epochs=epochs,\n",
    "          verbose=1)"
   ]
  },
  {
   "cell_type": "code",
   "execution_count": 11,
   "metadata": {},
   "outputs": [
    {
     "name": "stdout",
     "output_type": "stream",
     "text": [
      "\n",
      "\n",
      "accuracy score: 91.23333333333333\n",
      "\n",
      "\n",
      "              precision    recall  f1-score   support\n",
      "\n",
      "           0       0.89      0.94      0.92      3000\n",
      "           1       0.94      0.88      0.91      3000\n",
      "\n",
      "   micro avg       0.91      0.91      0.91      6000\n",
      "   macro avg       0.91      0.91      0.91      6000\n",
      "weighted avg       0.91      0.91      0.91      6000\n",
      "\n",
      "[[2833  167]\n",
      " [ 359 2641]]\n"
     ]
    },
    {
     "data": {
      "image/png": "[encoded data removed]",
      "text/plain": [
       "<Figure size 432x288 with 1 Axes>"
      ]
     },
     "metadata": {
      "needs_background": "light"
     },
     "output_type": "display_data"
    }
   ],
   "source": [
    "# Testing the neural network\n",
    "\n",
    "y_pred = model.predict_classes(X_test)\n",
    "probs = model.predict_proba(X_test)\n",
    "print('\\n')\n",
    "print('accuracy score:', accuracy_score(y_test, y_pred) * 100)\n",
    "print('\\n')\n",
    "print(classification_report(y_test, y_pred))\n",
    "cf = confusion_matrix(y_test, y_pred)\n",
    "print(cf)\n",
    "\n",
    "# ROC\n",
    "\n",
    "# calculate the fpr and tpr for all thresholds of the classification\n",
    "\n",
    "preds = probs[:,1]\n",
    "fpr, tpr, threshold = metrics.roc_curve(y_test, preds)\n",
    "roc_auc = metrics.auc(fpr, tpr)\n",
    "\n",
    "# plot\n",
    "plt.title('Receiver Operating Characteristic')\n",
    "plt.plot(fpr, tpr, 'b', label = 'AUC = %0.2f' % roc_auc)\n",
    "plt.legend(loc = 'lower right')\n",
    "plt.plot([0, 1], [0, 1],'r--')\n",
    "plt.xlim([0, 1])\n",
    "plt.ylim([0, 1])\n",
    "plt.ylabel('True Positive Rate')\n",
    "plt.xlabel('False Positive Rate')\n",
    "plt.show()\n",
    "\n"
   ]
  },
  {
   "cell_type": "markdown",
   "metadata": {},
   "source": [
    "## Transfer learing with VGG19"
   ]
  },
  {
   "cell_type": "code",
   "execution_count": 12,
   "metadata": {},
   "outputs": [
    {
     "name": "stdout",
     "output_type": "stream",
     "text": [
      "_________________________________________________________________\n",
      "Layer (type)                 Output Shape              Param #   \n",
      "=================================================================\n",
      "block1_conv1 (Conv2D)        (None, 100, 100, 64)      1792      \n",
      "_________________________________________________________________\n",
      "block1_conv2 (Conv2D)        (None, 100, 100, 64)      36928     \n",
      "_________________________________________________________________\n",
      "block1_pool (MaxPooling2D)   (None, 50, 50, 64)        0         \n",
      "_________________________________________________________________\n",
      "block2_conv1 (Conv2D)        (None, 50, 50, 128)       73856     \n",
      "_________________________________________________________________\n",
      "block2_conv2 (Conv2D)        (None, 50, 50, 128)       147584    \n",
      "_________________________________________________________________\n",
      "block2_pool (MaxPooling2D)   (None, 25, 25, 128)       0         \n",
      "_________________________________________________________________\n",
      "block3_conv1 (Conv2D)        (None, 25, 25, 256)       295168    \n",
      "_________________________________________________________________\n",
      "block3_conv2 (Conv2D)        (None, 25, 25, 256)       590080    \n",
      "_________________________________________________________________\n",
      "block3_conv3 (Conv2D)        (None, 25, 25, 256)       590080    \n",
      "_________________________________________________________________\n",
      "block3_conv4 (Conv2D)        (None, 25, 25, 256)       590080    \n",
      "_________________________________________________________________\n",
      "block3_pool (MaxPooling2D)   (None, 12, 12, 256)       0         \n",
      "_________________________________________________________________\n",
      "block4_conv1 (Conv2D)        (None, 12, 12, 512)       1180160   \n",
      "_________________________________________________________________\n",
      "block4_conv2 (Conv2D)        (None, 12, 12, 512)       2359808   \n",
      "_________________________________________________________________\n",
      "block4_conv3 (Conv2D)        (None, 12, 12, 512)       2359808   \n",
      "_________________________________________________________________\n",
      "block4_conv4 (Conv2D)        (None, 12, 12, 512)       2359808   \n",
      "_________________________________________________________________\n",
      "block4_pool (MaxPooling2D)   (None, 6, 6, 512)         0         \n",
      "_________________________________________________________________\n",
      "block5_conv1 (Conv2D)        (None, 6, 6, 512)         2359808   \n",
      "_________________________________________________________________\n",
      "block5_conv2 (Conv2D)        (None, 6, 6, 512)         2359808   \n",
      "_________________________________________________________________\n",
      "block5_conv3 (Conv2D)        (None, 6, 6, 512)         2359808   \n",
      "_________________________________________________________________\n",
      "block5_conv4 (Conv2D)        (None, 6, 6, 512)         2359808   \n",
      "_________________________________________________________________\n",
      "block5_pool (MaxPooling2D)   (None, 3, 3, 512)         0         \n",
      "_________________________________________________________________\n",
      "flatten_2 (Flatten)          (None, 4608)              0         \n",
      "_________________________________________________________________\n",
      "dense_3 (Dense)              (None, 10)                46090     \n",
      "_________________________________________________________________\n",
      "dense_4 (Dense)              (None, 2)                 22        \n",
      "=================================================================\n",
      "Total params: 20,070,496\n",
      "Trainable params: 46,112\n",
      "Non-trainable params: 20,024,384\n",
      "_________________________________________________________________\n",
      "_________________________________________________________________\n",
      "Layer (type)                 Output Shape              Param #   \n",
      "=================================================================\n",
      "block1_conv1 (Conv2D)        (None, 100, 100, 64)      1792      \n",
      "_________________________________________________________________\n",
      "block1_conv2 (Conv2D)        (None, 100, 100, 64)      36928     \n",
      "_________________________________________________________________\n",
      "block1_pool (MaxPooling2D)   (None, 50, 50, 64)        0         \n",
      "_________________________________________________________________\n",
      "block2_conv1 (Conv2D)        (None, 50, 50, 128)       73856     \n",
      "_________________________________________________________________\n",
      "block2_conv2 (Conv2D)        (None, 50, 50, 128)       147584    \n",
      "_________________________________________________________________\n",
      "block2_pool (MaxPooling2D)   (None, 25, 25, 128)       0         \n",
      "_________________________________________________________________\n",
      "block3_conv1 (Conv2D)        (None, 25, 25, 256)       295168    \n",
      "_________________________________________________________________\n",
      "block3_conv2 (Conv2D)        (None, 25, 25, 256)       590080    \n",
      "_________________________________________________________________\n",
      "block3_conv3 (Conv2D)        (None, 25, 25, 256)       590080    \n",
      "_________________________________________________________________\n",
      "block3_conv4 (Conv2D)        (None, 25, 25, 256)       590080    \n",
      "_________________________________________________________________\n",
      "block3_pool (MaxPooling2D)   (None, 12, 12, 256)       0         \n",
      "_________________________________________________________________\n",
      "block4_conv1 (Conv2D)        (None, 12, 12, 512)       1180160   \n",
      "_________________________________________________________________\n",
      "block4_conv2 (Conv2D)        (None, 12, 12, 512)       2359808   \n",
      "_________________________________________________________________\n",
      "block4_conv3 (Conv2D)        (None, 12, 12, 512)       2359808   \n",
      "_________________________________________________________________\n",
      "block4_conv4 (Conv2D)        (None, 12, 12, 512)       2359808   \n",
      "_________________________________________________________________\n",
      "block4_pool (MaxPooling2D)   (None, 6, 6, 512)         0         \n",
      "_________________________________________________________________\n",
      "block5_conv1 (Conv2D)        (None, 6, 6, 512)         2359808   \n",
      "_________________________________________________________________\n",
      "block5_conv2 (Conv2D)        (None, 6, 6, 512)         2359808   \n",
      "_________________________________________________________________\n",
      "block5_conv3 (Conv2D)        (None, 6, 6, 512)         2359808   \n",
      "_________________________________________________________________\n",
      "block5_conv4 (Conv2D)        (None, 6, 6, 512)         2359808   \n",
      "_________________________________________________________________\n",
      "block5_pool (MaxPooling2D)   (None, 3, 3, 512)         0         \n",
      "_________________________________________________________________\n",
      "flatten_2 (Flatten)          (None, 4608)              0         \n",
      "_________________________________________________________________\n",
      "dense_3 (Dense)              (None, 10)                46090     \n",
      "_________________________________________________________________\n",
      "dense_4 (Dense)              (None, 2)                 22        \n",
      "=================================================================\n",
      "Total params: 20,070,496\n",
      "Trainable params: 46,112\n",
      "Non-trainable params: 20,024,384\n",
      "_________________________________________________________________\n"
     ]
    }
   ],
   "source": [
    "modelVGG19 = keras.applications.vgg19.VGG19(include_top=False, weights='imagenet', input_shape=(100,100,3))\n",
    "type(modelVGG19)\n",
    "\n",
    "# Convert to sequential model\n",
    "model = Sequential()\n",
    "\n",
    "for layer in modelVGG19.layers[:]:\n",
    "    model.add(layer)\n",
    "    \n",
    "# Make weights fixed\n",
    "for layer in model.layers:\n",
    "    layer.trainable = False\n",
    "\n",
    "# Adding dense layers\n",
    "model.add(Flatten()) \n",
    "model.add(Dense(10,activation='sigmoid'))\n",
    "model.add(Dense(2,activation='sigmoid'))    \n",
    "model.summary()\n",
    "\n",
    "\n",
    "adam = keras.optimizers.adam()\n",
    "model.compile(loss='binary_crossentropy',optimizer=adam,metrics=['accuracy'])\n",
    "model.summary()"
   ]
  },
  {
   "cell_type": "code",
   "execution_count": 13,
   "metadata": {},
   "outputs": [
    {
     "name": "stdout",
     "output_type": "stream",
     "text": [
      "Epoch 1/4\n",
      "2000/2000 [==============================] - 66s 33ms/step - loss: 0.5512 - acc: 0.7700\n",
      "Epoch 2/4\n",
      "2000/2000 [==============================] - 67s 34ms/step - loss: 0.4435 - acc: 0.8700\n",
      "Epoch 3/4\n",
      "2000/2000 [==============================] - 68s 34ms/step - loss: 0.3913 - acc: 0.8925\n",
      "Epoch 4/4\n",
      "2000/2000 [==============================] - 69s 34ms/step - loss: 0.3459 - acc: 0.9050\n"
     ]
    }
   ],
   "source": [
    "# retrain the VGG model\n",
    "\n",
    "batch_size =16\n",
    "epochs = 4\n",
    "\n",
    "history = model.fit(X_train, y_train, batch_size=batch_size, epochs=epochs, verbose=1)"
   ]
  },
  {
   "cell_type": "code",
   "execution_count": 29,
   "metadata": {},
   "outputs": [
    {
     "name": "stdout",
     "output_type": "stream",
     "text": [
      "\n",
      "\n",
      "accuracy score: 90.8\n",
      "\n",
      "\n",
      "              precision    recall  f1-score   support\n",
      "\n",
      "           0       0.89      0.93      0.91      1000\n",
      "           1       0.92      0.89      0.91      1000\n",
      "\n",
      "   micro avg       0.91      0.91      0.91      2000\n",
      "   macro avg       0.91      0.91      0.91      2000\n",
      "weighted avg       0.91      0.91      0.91      2000\n",
      "\n",
      "[[926  74]\n",
      " [110 890]]\n"
     ]
    },
    {
     "data": {
      "image/png": "[encoded data removed]",
      "text/plain": [
       "<Figure size 432x288 with 1 Axes>"
      ]
     },
     "metadata": {
      "needs_background": "light"
     },
     "output_type": "display_data"
    }
   ],
   "source": [
    "# Testing the VGG network\n",
    "\n",
    "# Testing the neural network\n",
    "\n",
    "y_pred = model.predict_classes(X_test)\n",
    "probs = model.predict_proba(X_test)\n",
    "print('\\n')\n",
    "print('accuracy score:', accuracy_score(y_test, y_pred) * 100)\n",
    "print('\\n')\n",
    "print(classification_report(y_test, y_pred))\n",
    "cf = confusion_matrix(y_test, y_pred)\n",
    "print(cf)\n",
    "\n",
    "# ROC\n",
    "\n",
    "# calculate the fpr and tpr for all thresholds of the classification\n",
    "\n",
    "preds = probs[:,1]\n",
    "fpr, tpr, threshold = metrics.roc_curve(y_test, preds)\n",
    "roc_auc = metrics.auc(fpr, tpr)\n",
    "\n",
    "# plot\n",
    "#import matplotlib.pyplot as plt\n",
    "plt.title('Receiver Operating Characteristic')\n",
    "plt.plot(fpr, tpr, 'b', label = 'AUC = %0.2f' % roc_auc)\n",
    "plt.legend(loc = 'lower right')\n",
    "plt.plot([0, 1], [0, 1],'r--')\n",
    "plt.xlim([0, 1])\n",
    "plt.ylim([0, 1])\n",
    "plt.ylabel('True Positive Rate')\n",
    "plt.xlabel('False Positive Rate')\n",
    "plt.show()\n"
   ]
  },
  {
   "cell_type": "code",
   "execution_count": null,
   "metadata": {},
   "outputs": [],
   "source": []
  }
 ],
 "metadata": {
  "kernelspec": {
   "display_name": "malaria_detection",
   "language": "python",
   "name": "malaria_detection"
  },
  "language_info": {
   "codemirror_mode": {
    "name": "ipython",
    "version": 3
   },
   "file_extension": ".py",
   "mimetype": "text/x-python",
   "name": "python",
   "nbconvert_exporter": "python",
   "pygments_lexer": "ipython3",
   "version": "3.7.0"
  },
  "toc": {
   "base_numbering": 1,
   "nav_menu": {},
   "number_sections": true,
   "sideBar": true,
   "skip_h1_title": false,
   "title_cell": "Table of Contents",
   "title_sidebar": "Contents",
   "toc_cell": false,
   "toc_position": {},
   "toc_section_display": true,
   "toc_window_display": false
  }
 },
 "nbformat": 4,
 "nbformat_minor": 2
}
